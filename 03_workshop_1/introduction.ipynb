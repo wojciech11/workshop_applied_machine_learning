{
 "cells": [
  {
   "cell_type": "markdown",
   "id": "ca56f72f-50f5-41e1-afd3-98fe72a5d57c",
   "metadata": {},
   "source": [
    "# Workshop 1"
   ]
  },
  {
   "cell_type": "markdown",
   "id": "8b7bbfea-64f4-46ed-a7f4-05adc8f6f607",
   "metadata": {},
   "source": [
    "Materiał\n",
    "    \n",
    "1. Praktyczny Machine Learning,\n",
    "2. Dane Treningowe i Testowe,\n",
    "3. Klasyfikacja i etykiety,\n",
    "4. Przygotowanie danych,\n",
    "5. Korzystanie z ChatGPT."
   ]
  },
  {
   "cell_type": "markdown",
   "id": "29f4fb55-b569-4815-ac24-d8fae20ab952",
   "metadata": {},
   "source": [
    "## Praktyczny ML\n",
    "\n",
    "### Drivetrain Approach"
   ]
  },
  {
   "cell_type": "markdown",
   "id": "c87bf631-a12a-45ff-90a2-0339166a7598",
   "metadata": {},
   "source": [
    "![](https://raw.githubusercontent.com/fastai/fastbook/823b69e00aa1e1c1a45fe88bd346f11e8f89c1ff//images/drivetrain-approach.png)\n",
    "\n",
    "Na podstawie [fastbook](https://github.com/fastai/fastbook/blob/master/02_production.ipynb)"
   ]
  },
  {
   "cell_type": "markdown",
   "id": "a24a5c8e-c847-4254-8c39-98fbd2e8b009",
   "metadata": {},
   "source": [
    "Tak jak każdy projekt ML powienien mieć jasno określony cel, który pozwoli na jego efektywne zaimplementowanie."
   ]
  },
  {
   "cell_type": "markdown",
   "id": "4b2399fb-dfa0-4d05-b651-286e98b86018",
   "metadata": {},
   "source": [
    "### Iteracje i Tracer-bullet Development"
   ]
  },
  {
   "cell_type": "markdown",
   "id": "d9705147-fece-43be-95c2-b0baed48f9b2",
   "metadata": {},
   "source": [
    "Czyli jak najszybciej staramy się uruchomić nasz pipeline dla algorytmu, żeby:\n",
    "\n",
    "1. Mieć punkt odniesienia dla zmian,\n",
    "2. Poznać lepiej domenę,\n",
    "3. Analizując przykłady danych dla których nasz algorytm się najgoszej sprawdza (największy *loss*), często wskazuje na problemy z danymi lub naszym zrozumieniem problemu.\n",
    "\n",
    "Praca w iteracjach:\n",
    "\n",
    "![](img/_81e65d0d-188e-4ab2-bb3f-73df0074a822.jpeg){width=20%}\n",
    "\n",
    "\n",
    "\n"
   ]
  },
  {
   "cell_type": "markdown",
   "id": "49f13aed-dc56-4444-9b36-55c41ea9f80f",
   "metadata": {},
   "source": [
    "Tracer-bullet:\n",
    "\n",
    "```{mermaid}\n",
    "flowchart LR\n",
    "  Poczatek(Początek) --> P1(Nieznany\\nProblem 1)\n",
    "    \n",
    "  P1 --> P2(Nieznany\\nProblem 2)\n",
    "  P2 --> P3(Nieznany\\nProblem 3)\n",
    "  P3 --> HappyPath(Happy Path)\n",
    "  \n",
    "  HappyPath --> KI(Kolejna Iteracja:\\nRozbudowa/Patchowanie)\n",
    "```\n"
   ]
  },
  {
   "cell_type": "markdown",
   "id": "7d0077cd-11cf-470e-8b70-52908508bc69",
   "metadata": {},
   "source": [
    "## Dane"
   ]
  },
  {
   "cell_type": "markdown",
   "id": "fabb7378-2226-4e11-b43e-3fbaff5505a3",
   "metadata": {},
   "source": [
    "```{mermaid}\n",
    "flowchart LR\n",
    "  TD(Training\\nData) -- trenujemy\\n/uczymy --> TM[Trenowanie\\nModelu]\n",
    "  VD(Validation\\nData) -- czy idziemy\\nw dobra strone? --> TM\n",
    "  \n",
    "  TM --> M(Model)\n",
    "  \n",
    "  M --> SM[Sprawdzenie\\nModelu]\n",
    "  \n",
    "  \n",
    "  TeD(Test\\nData) -- jak sprawdza się\\nna nieznanych danych --> SM\n",
    "  \n",
    "  SM --> Metryki(Metryki)\n",
    "```"
   ]
  },
  {
   "cell_type": "markdown",
   "id": "6038f6c2-31bf-4793-a812-7cf58bc23f38",
   "metadata": {},
   "source": [
    "## Typy Danych\n",
    "\n",
    "Mamy:\n",
    "\n",
    "1. **Dane Treningowe**, czasami mówimy o danych treningowych jako dane uczące i validacyjne, czasami narzędzia, które będziemy używać będą wewnętrznie obsługiwać podział dane do trenowania i walidacji.\n",
    "2. **Dane Walidacyjne**, pozwalają nam dać feedback dla algorytmu uczącego, a propos jakości wyników.\n",
    "3. **Dane Testowe**, dane, które nasz algorytm nie widział i nie miał okazji się nauczyć."
   ]
  },
  {
   "cell_type": "markdown",
   "id": "cff1b400-8cda-406c-864a-8b75cbeb706a",
   "metadata": {},
   "source": [
    "## Klasyfikacja i Etykiety\n",
    "\n",
    "Po angielsku `label`, dodatkowa informacja wyjaśniająca co wiersz danych, zestaw pikseli, lub fragment piosenki oznacza. Etykiety są tym co chcemy przewidzieć na podstawie danych, które ją reprezentują. Celem algorytmów klasyfikacji jest właśne znalezienie sposobu rozpoznania etykiety na podstawie danych wejściowych."
   ]
  },
  {
   "cell_type": "markdown",
   "id": "8c20a573-2863-49d5-8b3f-bc0c4b3bb273",
   "metadata": {},
   "source": [
    "```{mermaid}\n",
    "\n",
    "flowchart LR\n",
    "  Dane_1(x11,x12, x13, x14) --> Etykieta_1(\"Label 1 (y)\")\n",
    "  Dane_2(x21,x22, x23, x14) --> Etykieta_1\n",
    "  \n",
    "  Dane_3(x31,x32, x33, x34) --> Etykieta_2(\"Label 2 (y)\")\n",
    "```\n",
    "\n",
    "**Algorytmy klasyfikacji**"
   ]
  },
  {
   "cell_type": "markdown",
   "id": "86cb0a3a-6f5e-42e2-81c5-ade461412ef0",
   "metadata": {},
   "source": [
    "## Funkcje w popularnych biblioteki ML / DS\n",
    "\n",
    "### scikit-learn\n",
    "\n",
    "Na przykład bibliotek [scikit-learn](https://scikit-learn.org/stable/) dostarcza nam funkcję `train_test_split` ([dokumentacja](https://scikit-learn.org/stable/modules/generated/sklearn.model_selection.train_test_split.html)).\n",
    "\n",
    "Jeśli zaleźy nam na losowym wybraniu zbiorów testowych i treningowych wystarczy:\n",
    "\n",
    "```python\n",
    "from sklearn.model_selection import train_test_split\n",
    "\n",
    "X_train, X_test, y_train, y_test = train_test_split(\n",
    "    X, y, test_size=0.2\n",
    ")\n",
    "```\n",
    "\n",
    "Jeśli chcemy się upewnić, że mamy zarówno w danych testowych oraz trenujacych reprezentacje dla każdej klasy, jeśli przygotowujemy dane do wytrenowania algorytmu do klasyfikacji:\n",
    "\n",
    "```python\n",
    "from sklearn.model_selection import train_test_split\n",
    "\n",
    "X_train, X_test, y_train, y_test = train_test_split(\n",
    "    X, y, test_size=0.2, random_state=22, stratify=y\n",
    ")\n",
    "```\n",
    "\n",
    "Musimy upewnić się, że zarówno X i y mają reprezentantów każdej z klasy (etykiety), inaczej albo nasz model nie będzie w stanie obsłużyć danej klasy, albo nie będziemy w stanie pomierzyć efektywności naszego algorytmu."
   ]
  },
  {
   "cell_type": "markdown",
   "id": "a9273538-18de-4c59-8681-c38d96aac11e",
   "metadata": {},
   "source": [
    "## fastai\n",
    "\n",
    "W przypadku [fastai](https://docs.fast.ai/data.load.html), [DataBlock](https://docs.fast.ai/data.block.html) ([dokumentacja na temat transformacji danych](https://docs.fast.ai/data.transforms.html)) daje nam logikę do wyznaczenia `X`, `y` oraz rozdzielenia danych na validacyjne i do trenowania.\n",
    "\n",
    "```python\n",
    "DataBlock(\n",
    "    blocks=(TextBlock.from_df(\"full_text\", vocab=dls_lm.vocab), CategoryBlock), # funkcje do transformacji danych\n",
    "    get_x=ColReader(\"text\"), # co jest X\n",
    "    get_y=ColReader(\"category\"), # co jest y\n",
    "    splitter=ColSplitter(\"is_valid\")) # ktore wiersze beda train, a ktore valid\n",
    "```\n",
    "\n"
   ]
  },
  {
   "cell_type": "markdown",
   "id": "64fca380-2aea-4605-8f3c-8e86aaf7301f",
   "metadata": {},
   "source": [
    "## Praca z danymi, transformacje i feature engineering"
   ]
  },
  {
   "cell_type": "markdown",
   "id": "7e806dcc-fae6-4597-a232-cd803381b174",
   "metadata": {},
   "source": [
    "Zauważ: zazwyczaj w pierwszej iteracji, na mniejszej ilości danych, wyprobowyjemy jeden z algorytmów, który wiemy, że może dać nam dobre wyniki. Daje nam to punkt odniesienia, dla poprawy danych czy też wypróbowywania różnych algorytmów."
   ]
  },
  {
   "cell_type": "markdown",
   "id": "1c58e6aa-d8bc-4059-9792-e01af77711bb",
   "metadata": {},
   "source": [
    "### Problemy"
   ]
  },
  {
   "cell_type": "markdown",
   "id": "ce29bf13-34df-400e-8ecb-9cd482a880ed",
   "metadata": {},
   "source": [
    "```{mermaid}\n",
    "\n",
    "flowchart LR\n",
    "   PBW(Brakujace\\nwartości) --> Problemy(Problemy z danymi)\n",
    "   Dupl(Duplikaty) --> Problemy(Problemy z danymi)\n",
    "   PBR(Dziwne\\nreprezentacje pustych wartości) --> Problemy\n",
    "   PBO(Wartości\\nodstające) --> Problemy\n",
    "   PBZ(Zakresy wartości\\ndanych wejściowych) --> Problemy\n",
    "   PB(Brak wystarczająco\\nreprezentantów dla danej klasy) --> Problemy\n",
    "   Bl(Błędy w danych) --> Problemy\n",
    "   \n",
    "```"
   ]
  },
  {
   "cell_type": "markdown",
   "id": "93d82b4b-955c-463a-b6dd-1ff248e201df",
   "metadata": {},
   "source": [
    "W świecie idealnym:\n",
    "\n",
    "- dane są kompletne, a w przypadku problemów klasyfikacji, mamy przykłady dla każdej z etykiet/klas;\n",
    "- nie mamy braków, pustych wartości, dziwnych znaczników, np., NULL, null, ... itp;\n",
    "- dane są w podobnych zakresach, np., 1-10, bez outlinerów.\n",
    "\n",
    "taaaa... "
   ]
  },
  {
   "cell_type": "markdown",
   "id": "d431d65d-178b-473b-8388-5dbfe0de73be",
   "metadata": {},
   "source": [
    "### Zagrożenia w produkcji\n",
    "\n",
    "Warto zdawać sobie sprawę, model w produkcji wymaga od nas szczególnej uwagi, ze względu na zagrożenia:\n",
    "\n",
    "```{mermaid}\n",
    "\n",
    "flowchart LR\n",
    "   Bias(Bias) --> Z(\"Zagrożenia\")\n",
    "   MR(\"model rot\") --> Z\n",
    "   FL(\"Feedback loops\") --> Z\n",
    "   OD(\"out-of-domain data\") --> Z\n",
    "```\n"
   ]
  },
  {
   "cell_type": "markdown",
   "id": "f4c44588-09a0-4f58-ba92-892f1cc86552",
   "metadata": {},
   "source": [
    "Zagrożenia w produkcji:\n",
    "\n",
    "- bias - nasz dataset może być tendencyjny, np., trenowanie rozpoznawania anglieskiego poza szkocją czy NZ\n",
    "- model rot - nasze dane trenujące nie odpowiadają rzeczywistości w której model operatuje\n",
    "- feedback loops - sugerujemy się obecnymi wynikami modelu w doborze danych do dotrenowania\n",
    "- out-of-domain data - dane, których nie widzieliśmy nigdy wcześniej"
   ]
  },
  {
   "cell_type": "markdown",
   "id": "382d8b4c-e3e7-4453-a9aa-da57e2ffb0f6",
   "metadata": {},
   "source": [
    "### Rollout\n",
    "\n",
    "\n",
    "Dlatego rollout nowego modelu powinien być uważnie monitorowany:"
   ]
  },
  {
   "cell_type": "markdown",
   "id": "8187161a-2be3-4fd4-95e2-3e62bdf0fb09",
   "metadata": {},
   "source": [
    "![](https://raw.githubusercontent.com/fastai/fastbook/823b69e00aa1e1c1a45fe88bd346f11e8f89c1ff//images/att_00061.png){width=30%}"
   ]
  },
  {
   "cell_type": "markdown",
   "id": "2a07c625-cb7b-4c16-b1d3-f55ec38865a8",
   "metadata": {},
   "source": [
    "## Prace z danymi"
   ]
  },
  {
   "cell_type": "markdown",
   "id": "e0c21877-e555-43f4-aff8-640b357eb093",
   "metadata": {},
   "source": [
    "Na szczęście większość bibliotek dostarcza nam gotowe funkcję, większość bibliotek pozwala nam budować pipeline-y, które łączą z sobą wiele funkcjonalności."
   ]
  },
  {
   "cell_type": "markdown",
   "id": "c63acc1c-4736-4c9f-a8f1-0d85fae39673",
   "metadata": {},
   "source": [
    "### Usunięcie duplikatów"
   ]
  },
  {
   "cell_type": "code",
   "execution_count": null,
   "id": "dd3a5cb1-6050-446c-bff2-b505f2839567",
   "metadata": {},
   "outputs": [
    {
     "name": "stdout",
     "output_type": "stream",
     "text": [
      "  col1  col2\n",
      "0    A     1\n",
      "1    B     2\n",
      "2    C     3\n",
      "5    D     4\n"
     ]
    }
   ],
   "source": [
    "import pandas as pd\n",
    "import numpy as np\n",
    "\n",
    "\n",
    "# Create a sample DataFrame\n",
    "df = pd.DataFrame({\n",
    "    'col1': ['A', 'B', 'C', 'A', 'B', 'D'],\n",
    "    'col2': [1, 2, 3, 1, 2, 4]\n",
    "})\n",
    "\n",
    "# Remove duplicate rows based on col1\n",
    "df = df.drop_duplicates(subset=['col1'])\n",
    "\n",
    "# Print the new DataFrame\n",
    "print(df)"
   ]
  },
  {
   "cell_type": "markdown",
   "id": "2faeb55a-41f3-490a-893d-1cd8818c7885",
   "metadata": {},
   "source": [
    "### Brakujące wartości\n",
    "\n",
    "Dwie możliwości, usunięcie ich lub uzupełninie wartością, np., średnią."
   ]
  },
  {
   "cell_type": "markdown",
   "id": "e1767687-7998-4f03-a355-71ae279aa84c",
   "metadata": {},
   "source": [
    "#### Usunięcie wierwszy z brakującymi danymi"
   ]
  },
  {
   "cell_type": "code",
   "execution_count": null,
   "id": "80b2a2a9-b6e6-4d5b-8a04-374700cd9c9a",
   "metadata": {},
   "outputs": [
    {
     "data": {
      "text/html": [
       "<div>\n",
       "<style scoped>\n",
       "    .dataframe tbody tr th:only-of-type {\n",
       "        vertical-align: middle;\n",
       "    }\n",
       "\n",
       "    .dataframe tbody tr th {\n",
       "        vertical-align: top;\n",
       "    }\n",
       "\n",
       "    .dataframe thead th {\n",
       "        text-align: right;\n",
       "    }\n",
       "</style>\n",
       "<table border=\"1\" class=\"dataframe\">\n",
       "  <thead>\n",
       "    <tr style=\"text-align: right;\">\n",
       "      <th></th>\n",
       "      <th>col1</th>\n",
       "      <th>col2</th>\n",
       "    </tr>\n",
       "  </thead>\n",
       "  <tbody>\n",
       "    <tr>\n",
       "      <th>0</th>\n",
       "      <td>A</td>\n",
       "      <td>1</td>\n",
       "    </tr>\n",
       "    <tr>\n",
       "      <th>2</th>\n",
       "      <td>C</td>\n",
       "      <td>3</td>\n",
       "    </tr>\n",
       "    <tr>\n",
       "      <th>3</th>\n",
       "      <td>A</td>\n",
       "      <td>1</td>\n",
       "    </tr>\n",
       "    <tr>\n",
       "      <th>4</th>\n",
       "      <td>B</td>\n",
       "      <td>2</td>\n",
       "    </tr>\n",
       "    <tr>\n",
       "      <th>5</th>\n",
       "      <td>D</td>\n",
       "      <td>4</td>\n",
       "    </tr>\n",
       "  </tbody>\n",
       "</table>\n",
       "</div>"
      ],
      "text/plain": [
       "  col1  col2\n",
       "0    A     1\n",
       "2    C     3\n",
       "3    A     1\n",
       "4    B     2\n",
       "5    D     4"
      ]
     },
     "execution_count": null,
     "metadata": {},
     "output_type": "execute_result"
    }
   ],
   "source": [
    "X = pd.DataFrame({\n",
    "    'col1': ['A', None, 'C', 'A', 'B', 'D'],\n",
    "    'col2': [1, 2, 3, 1, 2, 4]\n",
    "})\n",
    "\n",
    "X.dropna(subset='col1')"
   ]
  },
  {
   "cell_type": "markdown",
   "id": "965f859c-920f-4423-b35f-03f1e4f35bbe",
   "metadata": {},
   "source": [
    "#### Uzupełnienie\n",
    "\n",
    "Jakimi wartościami uzupełnimy brakujące dane to zależy od scenariusza. Załóżmy, że chcemy wziąść średnią ważoną jako wartość dla uzupełnienia braków:"
   ]
  },
  {
   "cell_type": "code",
   "execution_count": null,
   "id": "c0ca5a7b-1050-453c-8a41-343d8e7f3029",
   "metadata": {},
   "outputs": [
    {
     "data": {
      "text/html": [
       "<div>\n",
       "<style scoped>\n",
       "    .dataframe tbody tr th:only-of-type {\n",
       "        vertical-align: middle;\n",
       "    }\n",
       "\n",
       "    .dataframe tbody tr th {\n",
       "        vertical-align: top;\n",
       "    }\n",
       "\n",
       "    .dataframe thead th {\n",
       "        text-align: right;\n",
       "    }\n",
       "</style>\n",
       "<table border=\"1\" class=\"dataframe\">\n",
       "  <thead>\n",
       "    <tr style=\"text-align: right;\">\n",
       "      <th></th>\n",
       "      <th>col1</th>\n",
       "      <th>col2</th>\n",
       "    </tr>\n",
       "  </thead>\n",
       "  <tbody>\n",
       "    <tr>\n",
       "      <th>0</th>\n",
       "      <td>A</td>\n",
       "      <td>1.0</td>\n",
       "    </tr>\n",
       "    <tr>\n",
       "      <th>1</th>\n",
       "      <td>B</td>\n",
       "      <td>2.0</td>\n",
       "    </tr>\n",
       "    <tr>\n",
       "      <th>2</th>\n",
       "      <td>C</td>\n",
       "      <td>NaN</td>\n",
       "    </tr>\n",
       "    <tr>\n",
       "      <th>3</th>\n",
       "      <td>A</td>\n",
       "      <td>1.0</td>\n",
       "    </tr>\n",
       "    <tr>\n",
       "      <th>4</th>\n",
       "      <td>B</td>\n",
       "      <td>2.0</td>\n",
       "    </tr>\n",
       "    <tr>\n",
       "      <th>5</th>\n",
       "      <td>D</td>\n",
       "      <td>4.0</td>\n",
       "    </tr>\n",
       "    <tr>\n",
       "      <th>6</th>\n",
       "      <td>E</td>\n",
       "      <td>NaN</td>\n",
       "    </tr>\n",
       "  </tbody>\n",
       "</table>\n",
       "</div>"
      ],
      "text/plain": [
       "  col1  col2\n",
       "0    A   1.0\n",
       "1    B   2.0\n",
       "2    C   NaN\n",
       "3    A   1.0\n",
       "4    B   2.0\n",
       "5    D   4.0\n",
       "6    E   NaN"
      ]
     },
     "execution_count": null,
     "metadata": {},
     "output_type": "execute_result"
    }
   ],
   "source": [
    "df = pd.DataFrame({\n",
    "    'col1': ['A', 'B', 'C', 'A', 'B', 'D', 'E'],\n",
    "    'col2': [1, 2, np.nan, 1, 2, 4, np.nan]\n",
    "})\n",
    "\n",
    "df"
   ]
  },
  {
   "cell_type": "code",
   "execution_count": null,
   "id": "cf49f034-dbb8-4339-ae67-db0aed46cbec",
   "metadata": {},
   "outputs": [],
   "source": [
    "avg = df[df[\"col2\"].notna()][\"col2\"].mean()"
   ]
  },
  {
   "cell_type": "code",
   "execution_count": null,
   "id": "9339313e-9676-4a5a-85ed-52ad76be3133",
   "metadata": {},
   "outputs": [
    {
     "data": {
      "text/html": [
       "<div>\n",
       "<style scoped>\n",
       "    .dataframe tbody tr th:only-of-type {\n",
       "        vertical-align: middle;\n",
       "    }\n",
       "\n",
       "    .dataframe tbody tr th {\n",
       "        vertical-align: top;\n",
       "    }\n",
       "\n",
       "    .dataframe thead th {\n",
       "        text-align: right;\n",
       "    }\n",
       "</style>\n",
       "<table border=\"1\" class=\"dataframe\">\n",
       "  <thead>\n",
       "    <tr style=\"text-align: right;\">\n",
       "      <th></th>\n",
       "      <th>col1</th>\n",
       "      <th>col2</th>\n",
       "    </tr>\n",
       "  </thead>\n",
       "  <tbody>\n",
       "    <tr>\n",
       "      <th>0</th>\n",
       "      <td>A</td>\n",
       "      <td>1.0</td>\n",
       "    </tr>\n",
       "    <tr>\n",
       "      <th>1</th>\n",
       "      <td>B</td>\n",
       "      <td>2.0</td>\n",
       "    </tr>\n",
       "    <tr>\n",
       "      <th>2</th>\n",
       "      <td>C</td>\n",
       "      <td>2.0</td>\n",
       "    </tr>\n",
       "    <tr>\n",
       "      <th>3</th>\n",
       "      <td>A</td>\n",
       "      <td>1.0</td>\n",
       "    </tr>\n",
       "    <tr>\n",
       "      <th>4</th>\n",
       "      <td>B</td>\n",
       "      <td>2.0</td>\n",
       "    </tr>\n",
       "    <tr>\n",
       "      <th>5</th>\n",
       "      <td>D</td>\n",
       "      <td>4.0</td>\n",
       "    </tr>\n",
       "    <tr>\n",
       "      <th>6</th>\n",
       "      <td>E</td>\n",
       "      <td>2.0</td>\n",
       "    </tr>\n",
       "  </tbody>\n",
       "</table>\n",
       "</div>"
      ],
      "text/plain": [
       "  col1  col2\n",
       "0    A   1.0\n",
       "1    B   2.0\n",
       "2    C   2.0\n",
       "3    A   1.0\n",
       "4    B   2.0\n",
       "5    D   4.0\n",
       "6    E   2.0"
      ]
     },
     "execution_count": null,
     "metadata": {},
     "output_type": "execute_result"
    }
   ],
   "source": [
    "df.loc[df[\"col2\"].isna(), \"col2\"] = avg\n",
    "\n",
    "\n",
    "df"
   ]
  },
  {
   "cell_type": "markdown",
   "id": "103b5c20-c62b-4c88-8bb6-3a298e2c41c3",
   "metadata": {},
   "source": [
    "### Wartości odstające\n",
    "\n",
    "Box plot jest dobrym startem. Więcej na [kaggle](https://www.kaggle.com/learn/feature-engineering)."
   ]
  },
  {
   "cell_type": "code",
   "execution_count": null,
   "id": "e16d1279-6e5f-4386-ad06-e3de7e3cd8ba",
   "metadata": {},
   "outputs": [],
   "source": [
    "df = pd.DataFrame({\n",
    "    'col1': ['A', 'B', 'C', 'A', 'B', 'D', 'E', 'F', 'G'],\n",
    "    'col2': [1, 1, 2, -30, 1, 2, 4, 10, 30]\n",
    "})"
   ]
  },
  {
   "cell_type": "code",
   "execution_count": null,
   "id": "145a6455-e076-4b6d-84ba-5a837ecaf988",
   "metadata": {},
   "outputs": [
    {
     "data": {
      "text/html": [
       "<div>\n",
       "<style scoped>\n",
       "    .dataframe tbody tr th:only-of-type {\n",
       "        vertical-align: middle;\n",
       "    }\n",
       "\n",
       "    .dataframe tbody tr th {\n",
       "        vertical-align: top;\n",
       "    }\n",
       "\n",
       "    .dataframe thead th {\n",
       "        text-align: right;\n",
       "    }\n",
       "</style>\n",
       "<table border=\"1\" class=\"dataframe\">\n",
       "  <thead>\n",
       "    <tr style=\"text-align: right;\">\n",
       "      <th></th>\n",
       "      <th>col1</th>\n",
       "      <th>col2</th>\n",
       "    </tr>\n",
       "  </thead>\n",
       "  <tbody>\n",
       "    <tr>\n",
       "      <th>0</th>\n",
       "      <td>A</td>\n",
       "      <td>1</td>\n",
       "    </tr>\n",
       "    <tr>\n",
       "      <th>1</th>\n",
       "      <td>B</td>\n",
       "      <td>1</td>\n",
       "    </tr>\n",
       "    <tr>\n",
       "      <th>2</th>\n",
       "      <td>C</td>\n",
       "      <td>2</td>\n",
       "    </tr>\n",
       "    <tr>\n",
       "      <th>3</th>\n",
       "      <td>A</td>\n",
       "      <td>-30</td>\n",
       "    </tr>\n",
       "    <tr>\n",
       "      <th>4</th>\n",
       "      <td>B</td>\n",
       "      <td>1</td>\n",
       "    </tr>\n",
       "    <tr>\n",
       "      <th>5</th>\n",
       "      <td>D</td>\n",
       "      <td>2</td>\n",
       "    </tr>\n",
       "    <tr>\n",
       "      <th>6</th>\n",
       "      <td>E</td>\n",
       "      <td>4</td>\n",
       "    </tr>\n",
       "    <tr>\n",
       "      <th>7</th>\n",
       "      <td>F</td>\n",
       "      <td>10</td>\n",
       "    </tr>\n",
       "    <tr>\n",
       "      <th>8</th>\n",
       "      <td>G</td>\n",
       "      <td>30</td>\n",
       "    </tr>\n",
       "  </tbody>\n",
       "</table>\n",
       "</div>"
      ],
      "text/plain": [
       "  col1  col2\n",
       "0    A     1\n",
       "1    B     1\n",
       "2    C     2\n",
       "3    A   -30\n",
       "4    B     1\n",
       "5    D     2\n",
       "6    E     4\n",
       "7    F    10\n",
       "8    G    30"
      ]
     },
     "execution_count": null,
     "metadata": {},
     "output_type": "execute_result"
    }
   ],
   "source": [
    "df"
   ]
  },
  {
   "cell_type": "code",
   "execution_count": null,
   "id": "bf816f25-9bcf-40b1-bbf6-2cf9d9961b95",
   "metadata": {},
   "outputs": [
    {
     "data": {
      "image/png": "[encoded data removed]",
      "text/plain": [
       "<Figure size 640x480 with 1 Axes>"
      ]
     },
     "metadata": {},
     "output_type": "display_data"
    }
   ],
   "source": [
    "import matplotlib.pyplot as plt\n",
    "df.boxplot(column=[\"col2\"])\n",
    "\n",
    "plt.show()"
   ]
  },
  {
   "cell_type": "markdown",
   "id": "0c99b977-7e6d-4e08-9df0-c7adebe75fc0",
   "metadata": {},
   "source": [
    "### Dystrybucja danych\n",
    "\n",
    "Na przykład, przygotowując dane dla algorytmów klasyfikacji, możemy uświadomić sobie, że nie mamy wystarczająco przykładów dla każdej z klas. "
   ]
  },
  {
   "cell_type": "code",
   "execution_count": null,
   "id": "84b54e0d-8adf-48cf-b596-1d2cf86fe439",
   "metadata": {},
   "outputs": [],
   "source": [
    "df = pd.DataFrame({\n",
    "    'label': ['A', 'B', 'B', 'B', 'B', 'A', 'A', 'C', 'A'],\n",
    "    'col2': [1, 1, 2, -30, 1, 2, 4, 10, 30]\n",
    "})"
   ]
  },
  {
   "cell_type": "code",
   "execution_count": null,
   "id": "04d5ebae-1514-446a-a840-229662a8ded3",
   "metadata": {},
   "outputs": [
    {
     "data": {
      "image/png": "[encoded data removed]",
      "text/plain": [
       "<Figure size 640x480 with 1 Axes>"
      ]
     },
     "metadata": {},
     "output_type": "display_data"
    }
   ],
   "source": [
    "df[\"label\"].value_counts(sort=False).plot.barh()\n",
    "plt.show()"
   ]
  },
  {
   "cell_type": "code",
   "execution_count": null,
   "id": "d37b0c32-bc64-4542-a049-de0b30d3896c",
   "metadata": {},
   "outputs": [
    {
     "data": {
      "image/png": "[encoded data removed]",
      "text/plain": [
       "<Figure size 640x480 with 1 Axes>"
      ]
     },
     "metadata": {},
     "output_type": "display_data"
    }
   ],
   "source": [
    "import pylab as pl\n",
    "from IPython import display\n",
    "\n",
    "features = [\"col2\"]\n",
    "\n",
    "i = 0\n",
    "for f_name in features:\n",
    "    p = df[f_name].value_counts(sort=True)\n",
    "    p.plot(kind=\"bar\").set_title(f_name)\n",
    "    if i < len(features) - 1:\n",
    "        display.display(pl.gcf())\n",
    "    i = i + 1\n",
    "\n",
    "plt.show()"
   ]
  },
  {
   "cell_type": "markdown",
   "id": "237b7698-bff5-4b25-a5da-fed18083acdd",
   "metadata": {},
   "source": [
    "### Data Augementation\n",
    "\n",
    "Przykład zdjęcia samochodu, z jednego możemy wygenerowąć wiele danych treninogwych:\n",
    "\n",
    "1. Rozciągnąć zdjęcie,\n",
    "2. Obrócić,\n",
    "3. Zmienić barwę zdjęcia,\n",
    "4. Ukryć jakąś część obrysu samochodu.\n",
    "\n",
    "Na przykład `fastai` ma funkcję `aug_transforms` (https://docs.fast.ai/vision.augment.html)."
   ]
  },
  {
   "cell_type": "markdown",
   "id": "4d4dd7e3-f844-42e1-ae2c-84b43208f514",
   "metadata": {},
   "source": [
    "### Dane kategoryczne vs ciąłe"
   ]
  },
  {
   "cell_type": "code",
   "execution_count": null,
   "id": "aa5138ee-c1f1-4975-acd8-a7a287b0dde8",
   "metadata": {},
   "outputs": [
    {
     "data": {
      "text/plain": [
       "label    object\n",
       "col2      int64\n",
       "dtype: object"
      ]
     },
     "execution_count": null,
     "metadata": {},
     "output_type": "execute_result"
    }
   ],
   "source": [
    "df = pd.DataFrame({\n",
    "    'label': ['A', 'B', 'B', 'B', 'B', 'A', 'A', 'C', 'A'],\n",
    "    'col2': [1, 1, 2, -30, 1, 2, 4, 10, 30]\n",
    "})\n",
    "\n",
    "df.dtypes\n",
    "\n"
   ]
  },
  {
   "cell_type": "code",
   "execution_count": null,
   "id": "0b20bf25-91ee-4a43-8be6-67126a63aed6",
   "metadata": {},
   "outputs": [],
   "source": [
    "df[\"label\"] = pd.Categorical(df[\"label\"], ordered=False)"
   ]
  },
  {
   "cell_type": "code",
   "execution_count": null,
   "id": "71e16717-e486-4ad7-8760-e93f4a2bac66",
   "metadata": {},
   "outputs": [
    {
     "data": {
      "text/plain": [
       "label    category\n",
       "col2        int64\n",
       "dtype: object"
      ]
     },
     "execution_count": null,
     "metadata": {},
     "output_type": "execute_result"
    }
   ],
   "source": [
    "df.dtypes"
   ]
  },
  {
   "cell_type": "markdown",
   "id": "7427ecb6-0697-47dc-9fa2-8a5883e43dc9",
   "metadata": {},
   "source": [
    "### Encoding danych kategorycznych\n",
    "\n",
    "Więcej w dokumentacji [skikit-learn](https://scikit-learn.org/stable/modules/generated/sklearn.preprocessing.LabelEncoder.html). W większości przypadków dla etykiet warto wykorzystywać tranformatory od prostych takich jak `LabelEncoder`, do złożonych opartych o modele językowe (embeddings)."
   ]
  },
  {
   "cell_type": "code",
   "execution_count": null,
   "id": "ad35d39a-1ec1-44ea-b409-79ba59d020c2",
   "metadata": {},
   "outputs": [],
   "source": [
    "from sklearn.preprocessing import LabelEncoder"
   ]
  },
  {
   "cell_type": "code",
   "execution_count": null,
   "id": "eb9f39c4-7ea2-4410-af5e-20726666d551",
   "metadata": {},
   "outputs": [],
   "source": [
    "le = LabelEncoder()"
   ]
  },
  {
   "cell_type": "code",
   "execution_count": null,
   "id": "be96592e-80e9-445d-a533-d768c5c99844",
   "metadata": {},
   "outputs": [
    {
     "data": {
      "text/plain": [
       "array([0, 1, 0])"
      ]
     },
     "execution_count": null,
     "metadata": {},
     "output_type": "execute_result"
    }
   ],
   "source": [
    "le.fit([\"A\", \"B\", \"B\", \"C\", \"D\", \"E\"])\n",
    "\n",
    "le.transform([\"A\", \"B\", \"A\"])"
   ]
  },
  {
   "cell_type": "code",
   "execution_count": null,
   "id": "39c99af8-ff21-418d-9834-ec22ef3c6443",
   "metadata": {},
   "outputs": [
    {
     "data": {
      "text/plain": [
       "array(['A', 'A', 'B', 'C'], dtype='<U1')"
      ]
     },
     "execution_count": null,
     "metadata": {},
     "output_type": "execute_result"
    }
   ],
   "source": [
    "le.inverse_transform([0, 0, 1, 2])"
   ]
  },
  {
   "cell_type": "markdown",
   "id": "1ed988b9-151a-4aad-ac58-e6fc09ca86c5",
   "metadata": {},
   "source": [
    "### Skalowanie danych ciągłych"
   ]
  },
  {
   "cell_type": "code",
   "execution_count": null,
   "id": "d0b55375-d0bf-45e5-8015-fd5f4fa2aedd",
   "metadata": {},
   "outputs": [],
   "source": [
    "from sklearn.preprocessing import MinMaxScaler\n",
    "\n",
    "currency_close_scaler = MinMaxScaler(feature_range=(-1, 1))"
   ]
  },
  {
   "cell_type": "markdown",
   "id": "a978551c-99ba-48d1-8f0c-a62720921668",
   "metadata": {},
   "source": [
    "## Pipelines\n",
    "\n",
    "Oferowane są zarówno przez [ski-learn](https://scikit-learn.org/stable/auto_examples/compose/plot_column_transformer_mixed_types.html), jak i, np., [huggingface](https://huggingface.co/docs/transformers/main_classes/pipelines), pozwalają zdefiniować kolejne kroki dla przetwarzania danych w ramach jednego workflowu.\n",
    "\n",
    "Krokami mogę być nie tylko oznaczanie danych jako kategorycznych czy ciągłym, ale również encoding oraz skalowanie.\n",
    "\n",
    "Przykład:\n",
    "\n",
    "```python\n",
    "from sklearn.svm import SVC\n",
    "from sklearn.preprocessing import StandardScaler\n",
    "from sklearn.pipeline import make_pipeline\n",
    "\n",
    "clf = make_pipeline(StandardScaler(), SVC(gamma=\"auto\", C=1.0, kernel=\"rbf\"))\n",
    "clf.fit(X_train, y_train.values.ravel())\n",
    "```"
   ]
  },
  {
   "cell_type": "markdown",
   "id": "24515a55-ef43-4c4c-8d9b-d9860a27e6ac",
   "metadata": {},
   "source": [
    "## Korzystanie z ChatGPT\n",
    "\n",
    "\n",
    "Najlepszym sposobem poznania jak budować nowe modele oraz aplikacje oparte o LLM to korzystać z najlepszych dostępnych implementacji. Ponad wszelką wątpliwość obecnie prym wiedzie ChatGPT. Dobre intro przez Jeremiego Howarda - [github.com/fastai/lm-hackers](https://github.com/fastai/lm-hackers)."
   ]
  },
  {
   "cell_type": "markdown",
   "id": "3433b795-1abc-446a-9399-8425013b956f",
   "metadata": {},
   "source": [
    "## Materiały dodatkowe\n",
    "\n",
    "- [Google ML Foundational Course](https://developers.google.com/machine-learning/foundational-courses)"
   ]
  }
 ],
 "metadata": {
  "kernelspec": {
   "display_name": "python3",
   "language": "python",
   "name": "python3"
  }
 },
 "nbformat": 4,
 "nbformat_minor": 5
}
