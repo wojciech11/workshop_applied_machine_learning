{
 "cells": [
  {
   "cell_type": "markdown",
   "id": "8ed9657c-5013-48cf-ba00-8bc6455765e2",
   "metadata": {},
   "source": [
    "# Twoja praca\n",
    "\n",
    "Część będziesz musiała/musiał sam napisać, np., sprawadzenie różnych encodingów."
   ]
  },
  {
   "cell_type": "code",
   "execution_count": null,
   "id": "760cefbf-0644-46ba-84b9-e509945dedd7",
   "metadata": {},
   "outputs": [],
   "source": []
  }
 ],
 "metadata": {
  "kernelspec": {
   "display_name": "python3",
   "language": "python",
   "name": "python3"
  }
 },
 "nbformat": 4,
 "nbformat_minor": 5
}
