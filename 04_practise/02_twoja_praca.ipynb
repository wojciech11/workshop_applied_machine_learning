{
 "cells": [
  {
   "cell_type": "markdown",
   "id": "0fb458c1-69c7-4d6f-97e0-2d4c8dd392b3",
   "metadata": {},
   "source": [
    "## Twoja praca\n",
    "\n",
    "Powtórzenie co jest w 01_przyklad.ipynb."
   ]
  },
  {
   "cell_type": "code",
   "execution_count": null,
   "id": "176f3d70-6129-4a49-abb6-22dd6cf1b575",
   "metadata": {},
   "outputs": [],
   "source": []
  }
 ],
 "metadata": {
  "kernelspec": {
   "display_name": "python3",
   "language": "python",
   "name": "python3"
  }
 },
 "nbformat": 4,
 "nbformat_minor": 5
}
