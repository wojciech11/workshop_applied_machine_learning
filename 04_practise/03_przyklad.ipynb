{
 "cells": [
  {
   "cell_type": "markdown",
   "id": "43f6853e-bfea-496c-954f-9e49090369c4",
   "metadata": {},
   "source": [
    "# Druga iteracja \n",
    "\n",
    "Zmiany algotrymu, praca na danymi,..."
   ]
  },
  {
   "cell_type": "code",
   "execution_count": null,
   "id": "6be67da3-c8af-4bb6-948d-0f9a8a75d370",
   "metadata": {},
   "outputs": [],
   "source": []
  }
 ],
 "metadata": {
  "kernelspec": {
   "display_name": "python3",
   "language": "python",
   "name": "python3"
  }
 },
 "nbformat": 4,
 "nbformat_minor": 5
}
