{
 "cells": [
  {
   "cell_type": "markdown",
   "id": "ace670fe-a90a-4f7d-91eb-8204a0cd88c7",
   "metadata": {},
   "source": [
    "# Aplikacja w produkcji"
   ]
  },
  {
   "cell_type": "markdown",
   "id": "bd6a65f4-666c-4fdd-9174-ed10118aca21",
   "metadata": {},
   "source": [
    "## Jak dane dla tego scenariusza zostały pobrane\n",
    "\n",
    "Odniesienie do kodu."
   ]
  },
  {
   "cell_type": "markdown",
   "id": "1a4fd8bc-518f-41f3-8a50-fb479fd0f5d4",
   "metadata": {},
   "source": [
    "## Model w produkcji\n",
    "\n",
    "Polegałbym na [fastapi](https://fastapi.tiangolo.com/) zamiast [flask](https://flask.palletsprojects.com/en/3.0.x/):\n",
    "\n",
    "```python\n",
    "from typing import Optional\n",
    "from po_pr_predict import app\n",
    "from pydantic import BaseModel\n",
    "from fastai.tabular.all import load_learner\n",
    "import joblib\n",
    "import pandas as pd\n",
    "\n",
    "\n",
    "learn = load_learner(\"./models/tabular_learner_1.pki\")\n",
    "model_ver = \"0.1.0\"\n",
    "\n",
    "\n",
    "class Eban(BaseModel):\n",
    "    quantity_requested: float\n",
    "    valuation_price: float\n",
    "\n",
    "\n",
    "class Predicton(BaseModel):\n",
    "    banpr: str\n",
    "    version: str\n",
    "\n",
    "\n",
    "@app.post(\"/predict\", response_model=Predicton)\n",
    "def predict(eban: Eban):\n",
    "    x = pd.Series(\n",
    "        data={\n",
    "            \"Quantity Requested\": eban.quantity_requested,\n",
    "            \"Valuation Price\": eban.valuation_price,\n",
    "        }\n",
    "    )\n",
    "\n",
    "    _, clas, _ = learn.predict(x)\n",
    "    vocab = learn.dls.vocab\n",
    "    r = int(vocab[clas])\n",
    "\n",
    "    # format with leading 0\n",
    "    return {\"banpr\": str(r).zfill(2), \"version\": model_ver}\n",
    "```"
   ]
  },
  {
   "cell_type": "markdown",
   "id": "70cf5b65-8a4b-40d5-972f-e99c865b2b5b",
   "metadata": {},
   "source": [
    "## Model w chmurze\n",
    "\n",
    "Docker + GCloud Run:\n",
    "\n",
    "```bash\n",
    "make docker_build\n",
    "make publish\n",
    "\n",
    "\n",
    "gcloud run deploy wsb-stocks-api \\\n",
    "           --platform managed \\\n",
    "          --image gcr.io/wsb-mlproject/wsb-stocks-api:0.1.0 \\\n",
    "          --port=8000 \\\n",
    "          --region europe-central2\n",
    "\n",
    "```"
   ]
  },
  {
   "cell_type": "code",
   "execution_count": null,
   "id": "da0fefa0-9042-4b81-a2d7-c139599a61b3",
   "metadata": {},
   "outputs": [],
   "source": []
  }
 ],
 "metadata": {
  "kernelspec": {
   "display_name": "python3",
   "language": "python",
   "name": "python3"
  }
 },
 "nbformat": 4,
 "nbformat_minor": 5
}
