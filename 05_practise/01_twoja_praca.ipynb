{
 "cells": [
  {
   "cell_type": "markdown",
   "id": "8ed9657c-5013-48cf-ba00-8bc6455765e2",
   "metadata": {},
   "source": [
    "# Przykład 2\n",
    "\n",
    "Część będziesz musiała/musiał sam napisać, np., sprawadzenie różnych encodingów."
   ]
  },
  {
   "cell_type": "code",
   "execution_count": 11,
   "id": "760cefbf-0644-46ba-84b9-e509945dedd7",
   "metadata": {},
   "outputs": [
    {
     "name": "stdout",
     "output_type": "stream",
     "text": [
      "Requirement already satisfied: tiktoken in /usr/local/Caskroom/miniconda/base/envs/workshop_applied_ml_5/lib/python3.11/site-packages (0.5.1)\n",
      "Requirement already satisfied: regex>=2022.1.18 in /usr/local/Caskroom/miniconda/base/envs/workshop_applied_ml_5/lib/python3.11/site-packages (from tiktoken) (2023.10.3)\n",
      "Requirement already satisfied: requests>=2.26.0 in /usr/local/Caskroom/miniconda/base/envs/workshop_applied_ml_5/lib/python3.11/site-packages (from tiktoken) (2.31.0)\n",
      "Requirement already satisfied: charset-normalizer<4,>=2 in /usr/local/Caskroom/miniconda/base/envs/workshop_applied_ml_5/lib/python3.11/site-packages (from requests>=2.26.0->tiktoken) (3.3.2)\n",
      "Requirement already satisfied: idna<4,>=2.5 in /usr/local/Caskroom/miniconda/base/envs/workshop_applied_ml_5/lib/python3.11/site-packages (from requests>=2.26.0->tiktoken) (3.4)\n",
      "Requirement already satisfied: urllib3<3,>=1.21.1 in /usr/local/Caskroom/miniconda/base/envs/workshop_applied_ml_5/lib/python3.11/site-packages (from requests>=2.26.0->tiktoken) (2.1.0)\n",
      "Requirement already satisfied: certifi>=2017.4.17 in /usr/local/Caskroom/miniconda/base/envs/workshop_applied_ml_5/lib/python3.11/site-packages (from requests>=2.26.0->tiktoken) (2023.7.22)\n"
     ]
    }
   ],
   "source": [
    "!pip install tiktoken"
   ]
  },
  {
   "cell_type": "code",
   "execution_count": 12,
   "id": "b7024f24-86c9-4892-a194-51cacd9bbb6e",
   "metadata": {},
   "outputs": [],
   "source": [
    "from tiktoken import encoding_for_model\n",
    "enc = encoding_for_model(\"text-davinci-003\")\n",
    "toks = enc.encode(\"I have an issue with my laptop\")"
   ]
  },
  {
   "cell_type": "code",
   "execution_count": 13,
   "id": "8c76f105-6d23-4b1a-b39e-cd42a4e550d1",
   "metadata": {},
   "outputs": [
    {
     "data": {
      "text/plain": [
       "[40, 423, 281, 2071, 351, 616, 13224]"
      ]
     },
     "execution_count": 13,
     "metadata": {},
     "output_type": "execute_result"
    }
   ],
   "source": [
    "toks"
   ]
  },
  {
   "cell_type": "code",
   "execution_count": 14,
   "id": "e3e4f89a-2308-46f7-b0fb-907567fbd41f",
   "metadata": {},
   "outputs": [],
   "source": [
    "toks = enc.encode(\"I have an issue with my macbook\")"
   ]
  },
  {
   "cell_type": "code",
   "execution_count": 15,
   "id": "e59a526b-03f5-49dd-a6dd-5d7b675af1fd",
   "metadata": {},
   "outputs": [
    {
     "data": {
      "text/plain": [
       "[40, 423, 281, 2071, 351, 616, 8352, 2070]"
      ]
     },
     "execution_count": 15,
     "metadata": {},
     "output_type": "execute_result"
    }
   ],
   "source": [
    "toks"
   ]
  },
  {
   "cell_type": "code",
   "execution_count": null,
   "id": "70c721cd-cafc-4260-baf0-deb4bd67e947",
   "metadata": {},
   "outputs": [],
   "source": []
  },
  {
   "cell_type": "markdown",
   "id": "4d9cc78b-5e80-4f96-be8c-ef918641cfc8",
   "metadata": {},
   "source": [
    "## Materiały dodatkowe\n",
    "\n",
    "- [OpenAI Cookbook get embeddings](https://github.com/openai/openai-cookbook/blob/feef1bf3982e15ad180e17732525ddbadaf2b670/examples/Get_embeddings_from_dataset.ipynb),\n",
    "- [OpenAI Cookbook kmeans](https://github.com/openai/openai-cookbook/blob/main/examples/Clustering.ipynb),\n",
    "- [weaviate.io](https://weaviate.io/)"
   ]
  },
  {
   "cell_type": "code",
   "execution_count": null,
   "id": "c5a4834b-ac4e-4bd0-9788-99ed69af3968",
   "metadata": {},
   "outputs": [],
   "source": []
  }
 ],
 "metadata": {
  "kernelspec": {
   "display_name": "Python 3 (ipykernel)",
   "language": "python",
   "name": "python3"
  },
  "language_info": {
   "codemirror_mode": {
    "name": "ipython",
    "version": 3
   },
   "file_extension": ".py",
   "mimetype": "text/x-python",
   "name": "python",
   "nbconvert_exporter": "python",
   "pygments_lexer": "ipython3",
   "version": "3.11.5"
  }
 },
 "nbformat": 4,
 "nbformat_minor": 5
}
